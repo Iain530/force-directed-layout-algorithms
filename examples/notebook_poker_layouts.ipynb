{
 "cells": [
  {
   "cell_type": "code",
   "execution_count": null,
   "metadata": {},
   "outputs": [],
   "source": [
    "# install dependencies\n",
    "!pip install forcelayout"
   ]
  },
  {
   "cell_type": "code",
   "execution_count": null,
   "metadata": {},
   "outputs": [],
   "source": [
    "from poker_utils import load_poker, annotate_poker, poker_distance\n",
    "import matplotlib.pyplot as plt\n",
    "import forcelayout as fl\n",
    "\n",
    "dataset = load_poker(500)"
   ]
  },
  {
   "cell_type": "markdown",
   "metadata": {},
   "source": [
    "The form of a single poker hand in the poker hands dataset:"
   ]
  },
  {
   "cell_type": "code",
   "execution_count": null,
   "metadata": {},
   "outputs": [],
   "source": [
    "dataset[0]"
   ]
  },
  {
   "cell_type": "markdown",
   "metadata": {},
   "source": [
    "Create a layout using the Pivot Layout algorithm and the poker distance metric:"
   ]
  },
  {
   "cell_type": "code",
   "execution_count": null,
   "metadata": {},
   "outputs": [],
   "source": [
    "fl.draw_spring_layout(dataset, algorithm=fl.Pivot, distance=poker_distance)\n",
    "plt.show()"
   ]
  },
  {
   "cell_type": "markdown",
   "metadata": {},
   "source": [
    "Let's colour this by the class of the poker hand..."
   ]
  },
  {
   "cell_type": "code",
   "execution_count": null,
   "metadata": {},
   "outputs": [],
   "source": [
    "layout = fl.draw_spring_layout(dataset, algorithm=fl.Pivot, distance=poker_distance,\n",
    "                               color_by=lambda datapoint: datapoint[10])"
   ]
  },
  {
   "cell_type": "markdown",
   "metadata": {},
   "source": [
    "We can redraw a layout as many times as we want with different settings"
   ]
  },
  {
   "cell_type": "code",
   "execution_count": null,
   "metadata": {},
   "outputs": [],
   "source": [
    "draw = fl.DrawLayout(dataset, layout)\n",
    "draw.draw(color_by=lambda datapoint: datapoint[10], color_map='hsv')"
   ]
  },
  {
   "cell_type": "markdown",
   "metadata": {},
   "source": [
    "Create an animation of the Chalmers' 1996 algorithm: (this will take longer than the Pivot algorithm)"
   ]
  },
  {
   "cell_type": "code",
   "execution_count": null,
   "metadata": {},
   "outputs": [],
   "source": [
    "from IPython.display import HTML\n",
    "\n",
    "\n",
    "ani = fl.draw_spring_layout_animated(dataset, distance=poker_distance, interval=100,\n",
    "                                     color_by=lambda datapoint: datapoint[10])\n",
    "HTML(ani.to_html5_video())"
   ]
  },
  {
   "cell_type": "markdown",
   "metadata": {},
   "source": [
    "We can animate the Pivot algorithm too:"
   ]
  },
  {
   "cell_type": "code",
   "execution_count": null,
   "metadata": {},
   "outputs": [],
   "source": [
    "ani = fl.draw_spring_layout_animated(dataset, algorithm=fl.Pivot, distance=poker_distance, interval=100,\n",
    "                                     color_by=lambda datapoint: datapoint[10])\n",
    "HTML(ani.to_html5_video())"
   ]
  },
  {
   "cell_type": "markdown",
   "metadata": {},
   "source": [
    "How about a big layout, 10,000?"
   ]
  },
  {
   "cell_type": "code",
   "execution_count": null,
   "metadata": {},
   "outputs": [],
   "source": [
    "import time\n",
    "big_poker = load_poker(10000)\n",
    "\n",
    "start = time.time()\n",
    "layout = fl.draw_spring_layout(big_poker, algorithm=fl.Pivot, distance=poker_distance,\n",
    "                               hybrid_refine_layout_iterations=0, size=10,\n",
    "                               color_by=lambda datapoint: datapoint[10])\n",
    "print(f'\\ntime: {time.time() - start}s')\n",
    "plt.show()"
   ]
  },
  {
   "cell_type": "markdown",
   "metadata": {},
   "source": [
    "Every poker hand: 2.5 million (**warning** will take several hours)"
   ]
  },
  {
   "cell_type": "code",
   "execution_count": null,
   "metadata": {},
   "outputs": [],
   "source": [
    "bigger_poker = load_poker(2500000)\n",
    "\n",
    "start = time.time()\n",
    "layout = fl.draw_spring_layout(bigger_poker, algorithm=fl.Pivot, distance=poker_distance,\n",
    "                               hybrid_refine_layout_iterations=0, size=0.5,\n",
    "                               color_by=lambda datapoint: datapoint[10])\n",
    "print(f'\\ntime: {time.time() - start}s')\n",
    "plt.show()"
   ]
  }
 ],
 "metadata": {
  "kernelspec": {
   "display_name": "Python 3",
   "language": "python",
   "name": "python3"
  },
  "language_info": {
   "codemirror_mode": {
    "name": "ipython",
    "version": 3
   },
   "file_extension": ".py",
   "mimetype": "text/x-python",
   "name": "python",
   "nbconvert_exporter": "python",
   "pygments_lexer": "ipython3",
   "version": "3.6.7"
  }
 },
 "nbformat": 4,
 "nbformat_minor": 2
}
